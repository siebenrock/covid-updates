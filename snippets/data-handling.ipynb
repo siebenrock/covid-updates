{
 "cells": [
  {
   "cell_type": "markdown",
   "metadata": {},
   "source": [
    "# Import"
   ]
  },
  {
   "cell_type": "code",
   "execution_count": 81,
   "metadata": {},
   "outputs": [],
   "source": [
    "from flask import Flask, request, jsonify\n",
    "import pandas as pd\n",
    "from datetime import date, timedelta\n",
    "import io\n",
    "import requests"
   ]
  },
  {
   "cell_type": "markdown",
   "metadata": {},
   "source": [
    "# Request data"
   ]
  },
  {
   "cell_type": "code",
   "execution_count": 83,
   "metadata": {},
   "outputs": [],
   "source": [
    "error = {\"status\": False, \"message\": \"\"}"
   ]
  },
  {
   "cell_type": "code",
   "execution_count": 84,
   "metadata": {},
   "outputs": [],
   "source": [
    "# Request .csv file from Github\n",
    "def request_file(date):\n",
    "    URL = \"https://raw.githubusercontent.com/CSSEGISandData/COVID-19/master/csse_covid_19_data/csse_covid_19_daily_reports/\"\n",
    "    path = URL + date.strftime(\"%m-%d-%Y\") + \".csv\"\n",
    "    global last_updated\n",
    "\n",
    "    try:\n",
    "        res = requests.get(path)\n",
    "        print(\"Request status code:\", res.status_code)\n",
    "        last_updated = date\n",
    "        error = {\"status\": False, \"message\": \"\"}\n",
    "        return res, error\n",
    "    except:\n",
    "        error = {\"status\": True, \"message\": \"Error retrieving file from GitHub\"}\n",
    "        print(error[\"message\"])\n",
    "        return False, error"
   ]
  },
  {
   "cell_type": "code",
   "execution_count": 85,
   "metadata": {},
   "outputs": [
    {
     "name": "stdout",
     "output_type": "stream",
     "text": [
      "Request status code: 404\n"
     ]
    }
   ],
   "source": [
    "res, error = request_file(date.today())"
   ]
  },
  {
   "cell_type": "markdown",
   "metadata": {},
   "source": [
    "# Clean data"
   ]
  },
  {
   "cell_type": "code",
   "execution_count": 4,
   "metadata": {},
   "outputs": [
    {
     "name": "stdout",
     "output_type": "stream",
     "text": [
      "Request status code: 404\n",
      "Request status code: 200\n"
     ]
    }
   ],
   "source": [
    "# If today's data is not available yet, request data from yesterday\n",
    "if res.status_code == 404:\n",
    "    res, error = request_file(date.today() - timedelta(days = 1))\n",
    "\n",
    "# Create and clean df\n",
    "global data\n",
    "try:\n",
    "    df = pd.read_csv(io.StringIO(res.content.decode('utf-8')))\n",
    "    df.rename(columns={'Admin2': 'County', 'Province_State': 'State', 'Country_Region': 'Country',\n",
    "                       'Last_Update': 'Update', 'Long_': 'Long', 'Combined_Key': 'Key'}, inplace=True)\n",
    "    df.set_index('Key', inplace=True)\n",
    "    df = df.drop(columns=[\"FIPS\", \"Lat\", \"Long\"])\n",
    "    for column in [\"County\", \"State\"]:\n",
    "        df[column] = df[column].str.replace(' ','-')\n",
    "        df[column] = df[column].str.lower()\n",
    "    data = df[df[\"Country\"] == \"US\"]\n",
    "    data.to_csv('data.csv')\n",
    "except:\n",
    "    error = {\"status\": True, \"message\": \"Error while handling df\"}\n",
    "    print(error[\"message\"])"
   ]
  },
  {
   "cell_type": "markdown",
   "metadata": {},
   "source": [
    "# Get data for all states"
   ]
  },
  {
   "cell_type": "code",
   "execution_count": 114,
   "metadata": {},
   "outputs": [],
   "source": [
    "df = data[[\"State\", \"Confirmed\", \"Deaths\", \"Recovered\"]]"
   ]
  },
  {
   "cell_type": "code",
   "execution_count": 115,
   "metadata": {},
   "outputs": [],
   "source": [
    "df = df.groupby(\"State\").sum()"
   ]
  },
  {
   "cell_type": "code",
   "execution_count": 116,
   "metadata": {},
   "outputs": [
    {
     "data": {
      "text/html": [
       "<div>\n",
       "<style scoped>\n",
       "    .dataframe tbody tr th:only-of-type {\n",
       "        vertical-align: middle;\n",
       "    }\n",
       "\n",
       "    .dataframe tbody tr th {\n",
       "        vertical-align: top;\n",
       "    }\n",
       "\n",
       "    .dataframe thead th {\n",
       "        text-align: right;\n",
       "    }\n",
       "</style>\n",
       "<table border=\"1\" class=\"dataframe\">\n",
       "  <thead>\n",
       "    <tr style=\"text-align: right;\">\n",
       "      <th></th>\n",
       "      <th>Confirmed</th>\n",
       "      <th>Deaths</th>\n",
       "      <th>Recovered</th>\n",
       "    </tr>\n",
       "    <tr>\n",
       "      <th>State</th>\n",
       "      <th></th>\n",
       "      <th></th>\n",
       "      <th></th>\n",
       "    </tr>\n",
       "  </thead>\n",
       "  <tbody>\n",
       "    <tr>\n",
       "      <th>alabama</th>\n",
       "      <td>6026</td>\n",
       "      <td>209</td>\n",
       "      <td>0</td>\n",
       "    </tr>\n",
       "    <tr>\n",
       "      <th>alaska</th>\n",
       "      <td>339</td>\n",
       "      <td>9</td>\n",
       "      <td>0</td>\n",
       "    </tr>\n",
       "    <tr>\n",
       "      <th>arizona</th>\n",
       "      <td>6286</td>\n",
       "      <td>273</td>\n",
       "      <td>0</td>\n",
       "    </tr>\n",
       "    <tr>\n",
       "      <th>arkansas</th>\n",
       "      <td>2911</td>\n",
       "      <td>48</td>\n",
       "      <td>0</td>\n",
       "    </tr>\n",
       "    <tr>\n",
       "      <th>california</th>\n",
       "      <td>42368</td>\n",
       "      <td>1689</td>\n",
       "      <td>0</td>\n",
       "    </tr>\n",
       "  </tbody>\n",
       "</table>\n",
       "</div>"
      ],
      "text/plain": [
       "            Confirmed  Deaths  Recovered\n",
       "State                                   \n",
       "alabama          6026     209          0\n",
       "alaska            339       9          0\n",
       "arizona          6286     273          0\n",
       "arkansas         2911      48          0\n",
       "california      42368    1689          0"
      ]
     },
     "execution_count": 116,
     "metadata": {},
     "output_type": "execute_result"
    }
   ],
   "source": [
    "df.head()"
   ]
  },
  {
   "cell_type": "code",
   "execution_count": 117,
   "metadata": {},
   "outputs": [],
   "source": [
    "# df = df.reset_index().melt(id_vars=[\"State\"], var_name=\"Type\", value_name=\"Value\")"
   ]
  },
  {
   "cell_type": "code",
   "execution_count": 118,
   "metadata": {},
   "outputs": [],
   "source": [
    "# df.sort_values(by = \"State\", inplace = True)"
   ]
  },
  {
   "cell_type": "code",
   "execution_count": 119,
   "metadata": {},
   "outputs": [],
   "source": [
    "#  df = df.groupby([\"State\", \"Type\"]).sum()"
   ]
  },
  {
   "cell_type": "code",
   "execution_count": 120,
   "metadata": {},
   "outputs": [],
   "source": [
    "df_dict = {}"
   ]
  },
  {
   "cell_type": "code",
   "execution_count": 131,
   "metadata": {},
   "outputs": [],
   "source": [
    "for state in df.index:\n",
    "    df_dict[state] = df.loc[state].to_dict()"
   ]
  },
  {
   "cell_type": "code",
   "execution_count": 136,
   "metadata": {},
   "outputs": [
    {
     "data": {
      "text/plain": [
       "{'Confirmed': 42368, 'Deaths': 1689, 'Recovered': 0}"
      ]
     },
     "execution_count": 136,
     "metadata": {},
     "output_type": "execute_result"
    }
   ],
   "source": [
    "df_dict[\"california\"]"
   ]
  },
  {
   "cell_type": "code",
   "execution_count": 137,
   "metadata": {},
   "outputs": [],
   "source": [
    "if len(df_dict) != 0:\n",
    "    df_dict.update({\"Date\": last_updated})"
   ]
  },
  {
   "cell_type": "markdown",
   "metadata": {},
   "source": [
    "# Get total"
   ]
  },
  {
   "cell_type": "code",
   "execution_count": 142,
   "metadata": {},
   "outputs": [],
   "source": [
    "total = data[[\"Confirmed\", \"Deaths\", \"Recovered\"]].sum()"
   ]
  },
  {
   "cell_type": "code",
   "execution_count": 143,
   "metadata": {},
   "outputs": [
    {
     "data": {
      "text/plain": [
       "{'Confirmed': 938154, 'Deaths': 53755, 'Recovered': 100372}"
      ]
     },
     "execution_count": 143,
     "metadata": {},
     "output_type": "execute_result"
    }
   ],
   "source": [
    "total.to_dict()"
   ]
  },
  {
   "cell_type": "code",
   "execution_count": 147,
   "metadata": {},
   "outputs": [
    {
     "data": {
      "text/html": [
       "<div>\n",
       "<style scoped>\n",
       "    .dataframe tbody tr th:only-of-type {\n",
       "        vertical-align: middle;\n",
       "    }\n",
       "\n",
       "    .dataframe tbody tr th {\n",
       "        vertical-align: top;\n",
       "    }\n",
       "\n",
       "    .dataframe thead th {\n",
       "        text-align: right;\n",
       "    }\n",
       "</style>\n",
       "<table border=\"1\" class=\"dataframe\">\n",
       "  <thead>\n",
       "    <tr style=\"text-align: right;\">\n",
       "      <th></th>\n",
       "      <th>County</th>\n",
       "      <th>State</th>\n",
       "      <th>Country</th>\n",
       "      <th>Update</th>\n",
       "      <th>Confirmed</th>\n",
       "      <th>Deaths</th>\n",
       "      <th>Recovered</th>\n",
       "      <th>Active</th>\n",
       "    </tr>\n",
       "    <tr>\n",
       "      <th>Key</th>\n",
       "      <th></th>\n",
       "      <th></th>\n",
       "      <th></th>\n",
       "      <th></th>\n",
       "      <th></th>\n",
       "      <th></th>\n",
       "      <th></th>\n",
       "      <th></th>\n",
       "    </tr>\n",
       "  </thead>\n",
       "  <tbody>\n",
       "    <tr>\n",
       "      <th>Recovered, US</th>\n",
       "      <td>NaN</td>\n",
       "      <td>recovered</td>\n",
       "      <td>US</td>\n",
       "      <td>2020-04-26 02:30:51</td>\n",
       "      <td>0</td>\n",
       "      <td>0</td>\n",
       "      <td>100372</td>\n",
       "      <td>-100372</td>\n",
       "    </tr>\n",
       "    <tr>\n",
       "      <th>Abbeville, South Carolina, US</th>\n",
       "      <td>abbeville</td>\n",
       "      <td>south-carolina</td>\n",
       "      <td>US</td>\n",
       "      <td>2020-04-26 02:30:51</td>\n",
       "      <td>24</td>\n",
       "      <td>0</td>\n",
       "      <td>0</td>\n",
       "      <td>24</td>\n",
       "    </tr>\n",
       "    <tr>\n",
       "      <th>Orange, Texas, US</th>\n",
       "      <td>orange</td>\n",
       "      <td>texas</td>\n",
       "      <td>US</td>\n",
       "      <td>2020-04-26 02:30:51</td>\n",
       "      <td>64</td>\n",
       "      <td>0</td>\n",
       "      <td>0</td>\n",
       "      <td>64</td>\n",
       "    </tr>\n",
       "    <tr>\n",
       "      <th>Onondaga, New York, US</th>\n",
       "      <td>onondaga</td>\n",
       "      <td>new-york</td>\n",
       "      <td>US</td>\n",
       "      <td>2020-04-24 00:00:00</td>\n",
       "      <td>664</td>\n",
       "      <td>25</td>\n",
       "      <td>0</td>\n",
       "      <td>639</td>\n",
       "    </tr>\n",
       "    <tr>\n",
       "      <th>Onslow, North Carolina, US</th>\n",
       "      <td>onslow</td>\n",
       "      <td>north-carolina</td>\n",
       "      <td>US</td>\n",
       "      <td>2020-04-26 02:30:51</td>\n",
       "      <td>44</td>\n",
       "      <td>1</td>\n",
       "      <td>0</td>\n",
       "      <td>43</td>\n",
       "    </tr>\n",
       "    <tr>\n",
       "      <th>...</th>\n",
       "      <td>...</td>\n",
       "      <td>...</td>\n",
       "      <td>...</td>\n",
       "      <td>...</td>\n",
       "      <td>...</td>\n",
       "      <td>...</td>\n",
       "      <td>...</td>\n",
       "      <td>...</td>\n",
       "    </tr>\n",
       "    <tr>\n",
       "      <th>Grant, Kentucky, US</th>\n",
       "      <td>grant</td>\n",
       "      <td>kentucky</td>\n",
       "      <td>US</td>\n",
       "      <td>2020-04-26 02:30:51</td>\n",
       "      <td>18</td>\n",
       "      <td>3</td>\n",
       "      <td>0</td>\n",
       "      <td>15</td>\n",
       "    </tr>\n",
       "    <tr>\n",
       "      <th>Grant, Louisiana, US</th>\n",
       "      <td>grant</td>\n",
       "      <td>louisiana</td>\n",
       "      <td>US</td>\n",
       "      <td>2020-04-26 02:30:51</td>\n",
       "      <td>11</td>\n",
       "      <td>0</td>\n",
       "      <td>0</td>\n",
       "      <td>11</td>\n",
       "    </tr>\n",
       "    <tr>\n",
       "      <th>Grant, New Mexico, US</th>\n",
       "      <td>grant</td>\n",
       "      <td>new-mexico</td>\n",
       "      <td>US</td>\n",
       "      <td>2020-04-26 02:30:51</td>\n",
       "      <td>14</td>\n",
       "      <td>0</td>\n",
       "      <td>0</td>\n",
       "      <td>14</td>\n",
       "    </tr>\n",
       "    <tr>\n",
       "      <th>Grant, North Dakota, US</th>\n",
       "      <td>grant</td>\n",
       "      <td>north-dakota</td>\n",
       "      <td>US</td>\n",
       "      <td>2020-04-26 02:30:51</td>\n",
       "      <td>1</td>\n",
       "      <td>0</td>\n",
       "      <td>0</td>\n",
       "      <td>1</td>\n",
       "    </tr>\n",
       "    <tr>\n",
       "      <th>Virgin Islands, US</th>\n",
       "      <td>NaN</td>\n",
       "      <td>virgin-islands</td>\n",
       "      <td>US</td>\n",
       "      <td>2020-04-26 02:30:51</td>\n",
       "      <td>55</td>\n",
       "      <td>3</td>\n",
       "      <td>0</td>\n",
       "      <td>52</td>\n",
       "    </tr>\n",
       "  </tbody>\n",
       "</table>\n",
       "<p>2873 rows × 8 columns</p>\n",
       "</div>"
      ],
      "text/plain": [
       "                                  County           State Country  \\\n",
       "Key                                                                \n",
       "Recovered, US                        NaN       recovered      US   \n",
       "Abbeville, South Carolina, US  abbeville  south-carolina      US   \n",
       "Orange, Texas, US                 orange           texas      US   \n",
       "Onondaga, New York, US          onondaga        new-york      US   \n",
       "Onslow, North Carolina, US        onslow  north-carolina      US   \n",
       "...                                  ...             ...     ...   \n",
       "Grant, Kentucky, US                grant        kentucky      US   \n",
       "Grant, Louisiana, US               grant       louisiana      US   \n",
       "Grant, New Mexico, US              grant      new-mexico      US   \n",
       "Grant, North Dakota, US            grant    north-dakota      US   \n",
       "Virgin Islands, US                   NaN  virgin-islands      US   \n",
       "\n",
       "                                            Update  Confirmed  Deaths  \\\n",
       "Key                                                                     \n",
       "Recovered, US                  2020-04-26 02:30:51          0       0   \n",
       "Abbeville, South Carolina, US  2020-04-26 02:30:51         24       0   \n",
       "Orange, Texas, US              2020-04-26 02:30:51         64       0   \n",
       "Onondaga, New York, US         2020-04-24 00:00:00        664      25   \n",
       "Onslow, North Carolina, US     2020-04-26 02:30:51         44       1   \n",
       "...                                            ...        ...     ...   \n",
       "Grant, Kentucky, US            2020-04-26 02:30:51         18       3   \n",
       "Grant, Louisiana, US           2020-04-26 02:30:51         11       0   \n",
       "Grant, New Mexico, US          2020-04-26 02:30:51         14       0   \n",
       "Grant, North Dakota, US        2020-04-26 02:30:51          1       0   \n",
       "Virgin Islands, US             2020-04-26 02:30:51         55       3   \n",
       "\n",
       "                               Recovered  Active  \n",
       "Key                                               \n",
       "Recovered, US                     100372 -100372  \n",
       "Abbeville, South Carolina, US          0      24  \n",
       "Orange, Texas, US                      0      64  \n",
       "Onondaga, New York, US                 0     639  \n",
       "Onslow, North Carolina, US             0      43  \n",
       "...                                  ...     ...  \n",
       "Grant, Kentucky, US                    0      15  \n",
       "Grant, Louisiana, US                   0      11  \n",
       "Grant, New Mexico, US                  0      14  \n",
       "Grant, North Dakota, US                0       1  \n",
       "Virgin Islands, US                     0      52  \n",
       "\n",
       "[2873 rows x 8 columns]"
      ]
     },
     "execution_count": 147,
     "metadata": {},
     "output_type": "execute_result"
    }
   ],
   "source": [
    "data.sort_values(by=\"Recovered\", ascending=False)"
   ]
  }
 ],
 "metadata": {
  "kernelspec": {
   "display_name": "Python 3",
   "language": "python",
   "name": "python3"
  },
  "language_info": {
   "codemirror_mode": {
    "name": "ipython",
    "version": 3
   },
   "file_extension": ".py",
   "mimetype": "text/x-python",
   "name": "python",
   "nbconvert_exporter": "python",
   "pygments_lexer": "ipython3",
   "version": "3.6.5"
  }
 },
 "nbformat": 4,
 "nbformat_minor": 2
}
