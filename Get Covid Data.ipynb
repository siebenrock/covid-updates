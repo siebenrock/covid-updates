{
 "cells": [
  {
   "cell_type": "code",
   "execution_count": 1,
   "metadata": {},
   "outputs": [],
   "source": [
    "import pandas as pd\n",
    "from datetime import date, timedelta\n",
    "import io\n",
    "import requests"
   ]
  },
  {
   "cell_type": "code",
   "execution_count": 2,
   "metadata": {},
   "outputs": [],
   "source": [
    "def request_file(date):\n",
    "        URL = \"https://raw.githubusercontent.com/CSSEGISandData/COVID-19/master/csse_covid_19_data/csse_covid_19_daily_reports/\"\n",
    "        global last_updated\n",
    "\n",
    "        try:\n",
    "            res = requests.get(URL + date.strftime(\"%m-%d-%Y\") + \".csv\")\n",
    "            print(\"Request status code:\", res.status_code)\n",
    "            last_updated = date\n",
    "            error = {\"status\": False, \"message\": \"\"}\n",
    "            return res, error\n",
    "        except:\n",
    "            error = {\"status\": True, \"message\": \"Error retrieving file from GitHub\"}\n",
    "            print(error[\"message\"])\n",
    "            return False, error"
   ]
  },
  {
   "cell_type": "code",
   "execution_count": 3,
   "metadata": {},
   "outputs": [
    {
     "name": "stdout",
     "output_type": "stream",
     "text": [
      "Request status code: 404\n"
     ]
    }
   ],
   "source": [
    "req, error = request_file(date.today())"
   ]
  },
  {
   "cell_type": "code",
   "execution_count": 4,
   "metadata": {},
   "outputs": [
    {
     "name": "stdout",
     "output_type": "stream",
     "text": [
      "Request status code: 200\n"
     ]
    }
   ],
   "source": [
    "if req.status_code == 404:\n",
    "    req, error = request_file(date.today() - timedelta(days = 1))"
   ]
  },
  {
   "cell_type": "code",
   "execution_count": 5,
   "metadata": {},
   "outputs": [],
   "source": [
    "df = pd.read_csv(io.StringIO(req.content.decode('utf-8')))\n",
    "df.rename(columns={'Admin2': 'County', 'Province_State': 'State', 'Country_Region': 'Country',\n",
    "                   'Last_Update': 'Update', 'Long_': 'Long', 'Combined_Key': 'Key'}, inplace=True)\n",
    "df.set_index('Key', inplace=True)\n",
    "for column in [\"County\", \"State\"]:\n",
    "    df[column] = df[column].str.replace(' ','-')\n",
    "    df[column] = df[column].str.lower()\n",
    "df = df[df[\"Country\"] == \"US\"]\n",
    "df.to_csv('data.csv')"
   ]
  },
  {
   "cell_type": "code",
   "execution_count": 6,
   "metadata": {},
   "outputs": [
    {
     "data": {
      "text/html": [
       "<div>\n",
       "<style scoped>\n",
       "    .dataframe tbody tr th:only-of-type {\n",
       "        vertical-align: middle;\n",
       "    }\n",
       "\n",
       "    .dataframe tbody tr th {\n",
       "        vertical-align: top;\n",
       "    }\n",
       "\n",
       "    .dataframe thead th {\n",
       "        text-align: right;\n",
       "    }\n",
       "</style>\n",
       "<table border=\"1\" class=\"dataframe\">\n",
       "  <thead>\n",
       "    <tr style=\"text-align: right;\">\n",
       "      <th></th>\n",
       "      <th>FIPS</th>\n",
       "      <th>County</th>\n",
       "      <th>State</th>\n",
       "      <th>Country</th>\n",
       "      <th>Update</th>\n",
       "      <th>Lat</th>\n",
       "      <th>Long</th>\n",
       "      <th>Confirmed</th>\n",
       "      <th>Deaths</th>\n",
       "      <th>Recovered</th>\n",
       "      <th>Active</th>\n",
       "    </tr>\n",
       "    <tr>\n",
       "      <th>Key</th>\n",
       "      <th></th>\n",
       "      <th></th>\n",
       "      <th></th>\n",
       "      <th></th>\n",
       "      <th></th>\n",
       "      <th></th>\n",
       "      <th></th>\n",
       "      <th></th>\n",
       "      <th></th>\n",
       "      <th></th>\n",
       "      <th></th>\n",
       "    </tr>\n",
       "  </thead>\n",
       "  <tbody>\n",
       "    <tr>\n",
       "      <th>Abbeville, South Carolina, US</th>\n",
       "      <td>45001.0</td>\n",
       "      <td>abbeville</td>\n",
       "      <td>south-carolina</td>\n",
       "      <td>US</td>\n",
       "      <td>4/6/20 23:22</td>\n",
       "      <td>34.223334</td>\n",
       "      <td>-82.461707</td>\n",
       "      <td>6</td>\n",
       "      <td>0</td>\n",
       "      <td>0</td>\n",
       "      <td>0</td>\n",
       "    </tr>\n",
       "    <tr>\n",
       "      <th>Acadia, Louisiana, US</th>\n",
       "      <td>22001.0</td>\n",
       "      <td>acadia</td>\n",
       "      <td>louisiana</td>\n",
       "      <td>US</td>\n",
       "      <td>4/6/20 23:22</td>\n",
       "      <td>30.295065</td>\n",
       "      <td>-92.414197</td>\n",
       "      <td>79</td>\n",
       "      <td>2</td>\n",
       "      <td>0</td>\n",
       "      <td>0</td>\n",
       "    </tr>\n",
       "    <tr>\n",
       "      <th>Accomack, Virginia, US</th>\n",
       "      <td>51001.0</td>\n",
       "      <td>accomack</td>\n",
       "      <td>virginia</td>\n",
       "      <td>US</td>\n",
       "      <td>4/6/20 23:22</td>\n",
       "      <td>37.767072</td>\n",
       "      <td>-75.632346</td>\n",
       "      <td>11</td>\n",
       "      <td>0</td>\n",
       "      <td>0</td>\n",
       "      <td>0</td>\n",
       "    </tr>\n",
       "    <tr>\n",
       "      <th>Ada, Idaho, US</th>\n",
       "      <td>16001.0</td>\n",
       "      <td>ada</td>\n",
       "      <td>idaho</td>\n",
       "      <td>US</td>\n",
       "      <td>4/6/20 23:22</td>\n",
       "      <td>43.452658</td>\n",
       "      <td>-116.241552</td>\n",
       "      <td>402</td>\n",
       "      <td>3</td>\n",
       "      <td>0</td>\n",
       "      <td>0</td>\n",
       "    </tr>\n",
       "    <tr>\n",
       "      <th>Adair, Iowa, US</th>\n",
       "      <td>19001.0</td>\n",
       "      <td>adair</td>\n",
       "      <td>iowa</td>\n",
       "      <td>US</td>\n",
       "      <td>4/6/20 23:22</td>\n",
       "      <td>41.330756</td>\n",
       "      <td>-94.471059</td>\n",
       "      <td>1</td>\n",
       "      <td>0</td>\n",
       "      <td>0</td>\n",
       "      <td>0</td>\n",
       "    </tr>\n",
       "  </tbody>\n",
       "</table>\n",
       "</div>"
      ],
      "text/plain": [
       "                                  FIPS     County           State Country  \\\n",
       "Key                                                                         \n",
       "Abbeville, South Carolina, US  45001.0  abbeville  south-carolina      US   \n",
       "Acadia, Louisiana, US          22001.0     acadia       louisiana      US   \n",
       "Accomack, Virginia, US         51001.0   accomack        virginia      US   \n",
       "Ada, Idaho, US                 16001.0        ada           idaho      US   \n",
       "Adair, Iowa, US                19001.0      adair            iowa      US   \n",
       "\n",
       "                                     Update        Lat        Long  Confirmed  \\\n",
       "Key                                                                             \n",
       "Abbeville, South Carolina, US  4/6/20 23:22  34.223334  -82.461707          6   \n",
       "Acadia, Louisiana, US          4/6/20 23:22  30.295065  -92.414197         79   \n",
       "Accomack, Virginia, US         4/6/20 23:22  37.767072  -75.632346         11   \n",
       "Ada, Idaho, US                 4/6/20 23:22  43.452658 -116.241552        402   \n",
       "Adair, Iowa, US                4/6/20 23:22  41.330756  -94.471059          1   \n",
       "\n",
       "                               Deaths  Recovered  Active  \n",
       "Key                                                       \n",
       "Abbeville, South Carolina, US       0          0       0  \n",
       "Acadia, Louisiana, US               2          0       0  \n",
       "Accomack, Virginia, US              0          0       0  \n",
       "Ada, Idaho, US                      3          0       0  \n",
       "Adair, Iowa, US                     0          0       0  "
      ]
     },
     "execution_count": 6,
     "metadata": {},
     "output_type": "execute_result"
    }
   ],
   "source": [
    "df.head()"
   ]
  },
  {
   "cell_type": "code",
   "execution_count": 7,
   "metadata": {},
   "outputs": [],
   "source": [
    "# df[df.duplicated(['County'])]\n",
    "# County is not unique, need combination of state and county"
   ]
  },
  {
   "cell_type": "code",
   "execution_count": 8,
   "metadata": {},
   "outputs": [
    {
     "data": {
      "text/plain": [
       "366667"
      ]
     },
     "execution_count": 8,
     "metadata": {},
     "output_type": "execute_result"
    }
   ],
   "source": [
    "df['Confirmed'].sum()"
   ]
  },
  {
   "cell_type": "code",
   "execution_count": 9,
   "metadata": {},
   "outputs": [
    {
     "data": {
      "text/html": [
       "<div>\n",
       "<style scoped>\n",
       "    .dataframe tbody tr th:only-of-type {\n",
       "        vertical-align: middle;\n",
       "    }\n",
       "\n",
       "    .dataframe tbody tr th {\n",
       "        vertical-align: top;\n",
       "    }\n",
       "\n",
       "    .dataframe thead th {\n",
       "        text-align: right;\n",
       "    }\n",
       "</style>\n",
       "<table border=\"1\" class=\"dataframe\">\n",
       "  <thead>\n",
       "    <tr style=\"text-align: right;\">\n",
       "      <th></th>\n",
       "      <th>Confirmed</th>\n",
       "      <th>Deaths</th>\n",
       "      <th>Recovered</th>\n",
       "      <th>Active</th>\n",
       "    </tr>\n",
       "    <tr>\n",
       "      <th>Key</th>\n",
       "      <th></th>\n",
       "      <th></th>\n",
       "      <th></th>\n",
       "      <th></th>\n",
       "    </tr>\n",
       "  </thead>\n",
       "  <tbody>\n",
       "    <tr>\n",
       "      <th>Albany, New York, US</th>\n",
       "      <td>319</td>\n",
       "      <td>8</td>\n",
       "      <td>0</td>\n",
       "      <td>0</td>\n",
       "    </tr>\n",
       "    <tr>\n",
       "      <th>Allegany, New York, US</th>\n",
       "      <td>17</td>\n",
       "      <td>1</td>\n",
       "      <td>0</td>\n",
       "      <td>0</td>\n",
       "    </tr>\n",
       "    <tr>\n",
       "      <th>Broome, New York, US</th>\n",
       "      <td>76</td>\n",
       "      <td>5</td>\n",
       "      <td>0</td>\n",
       "      <td>0</td>\n",
       "    </tr>\n",
       "    <tr>\n",
       "      <th>Cattaraugus, New York, US</th>\n",
       "      <td>12</td>\n",
       "      <td>0</td>\n",
       "      <td>0</td>\n",
       "      <td>0</td>\n",
       "    </tr>\n",
       "    <tr>\n",
       "      <th>Cayuga, New York, US</th>\n",
       "      <td>11</td>\n",
       "      <td>0</td>\n",
       "      <td>0</td>\n",
       "      <td>0</td>\n",
       "    </tr>\n",
       "  </tbody>\n",
       "</table>\n",
       "</div>"
      ],
      "text/plain": [
       "                           Confirmed  Deaths  Recovered  Active\n",
       "Key                                                            \n",
       "Albany, New York, US             319       8          0       0\n",
       "Allegany, New York, US            17       1          0       0\n",
       "Broome, New York, US              76       5          0       0\n",
       "Cattaraugus, New York, US         12       0          0       0\n",
       "Cayuga, New York, US              11       0          0       0"
      ]
     },
     "execution_count": 9,
     "metadata": {},
     "output_type": "execute_result"
    }
   ],
   "source": [
    "df[(df[\"State\"] == \"new-york\")][[\"Confirmed\", \"Deaths\", \"Recovered\", \"Active\"]].head()"
   ]
  },
  {
   "cell_type": "code",
   "execution_count": 10,
   "metadata": {},
   "outputs": [],
   "source": [
    "query_state = \"california\"\n",
    "query_county = \"alameda\""
   ]
  },
  {
   "cell_type": "code",
   "execution_count": 11,
   "metadata": {},
   "outputs": [],
   "source": [
    "query = df[(df[\"State\"] == query_state) & (df[\"County\"] == query_county)][[\"Confirmed\", \"Deaths\", \"Recovered\", \"Active\"]]"
   ]
  },
  {
   "cell_type": "code",
   "execution_count": 12,
   "metadata": {},
   "outputs": [],
   "source": [
    "query = query.to_dict(orient = \"records\")"
   ]
  },
  {
   "cell_type": "code",
   "execution_count": 13,
   "metadata": {},
   "outputs": [],
   "source": [
    "query[0].update({\"last_updated\": \"XXX\"})"
   ]
  },
  {
   "cell_type": "code",
   "execution_count": 14,
   "metadata": {},
   "outputs": [
    {
     "data": {
      "text/plain": [
       "[{'Confirmed': 588,\n",
       "  'Deaths': 13,\n",
       "  'Recovered': 0,\n",
       "  'Active': 0,\n",
       "  'last_updated': 'XXX'}]"
      ]
     },
     "execution_count": 14,
     "metadata": {},
     "output_type": "execute_result"
    }
   ],
   "source": [
    "query"
   ]
  },
  {
   "cell_type": "code",
   "execution_count": 15,
   "metadata": {},
   "outputs": [],
   "source": [
    "# Get list of state and counties\n",
    "counties = df[[\"State\", \"County\"]].sort_values(by=[\"State\", \"County\"], ascending=True)\n",
    "counties.to_csv('counties.csv', index = False)"
   ]
  }
 ],
 "metadata": {
  "kernelspec": {
   "display_name": "Python 3",
   "language": "python",
   "name": "python3"
  },
  "language_info": {
   "codemirror_mode": {
    "name": "ipython",
    "version": 3
   },
   "file_extension": ".py",
   "mimetype": "text/x-python",
   "name": "python",
   "nbconvert_exporter": "python",
   "pygments_lexer": "ipython3",
   "version": "3.6.5"
  }
 },
 "nbformat": 4,
 "nbformat_minor": 2
}
